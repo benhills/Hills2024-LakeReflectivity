{
 "cells": [
  {
   "cell_type": "markdown",
   "id": "5014ff6d-0c59-4ae8-86b1-08c5228cbad1",
   "metadata": {},
   "source": [
    "# Raw Bed-Echo Power\n",
    "\n",
    "Here, we want to extract data from all the radar images of a given survey and compile that together in a single dataframe. In this case we will use ImpDAR to load the CReSIS standard focused images one at a time. CReSIS provides a bed pick, so we will take the location and bed-echo power from that pick.\n",
    "\n",
    "The data are publicly available at https://data.cresis.ku.edu/data/rds/2013_Antarctica_Basler."
   ]
  },
  {
   "cell_type": "code",
   "execution_count": null,
   "id": "34711427-a633-4f72-9726-89f7303c354a",
   "metadata": {
    "tags": []
   },
   "outputs": [],
   "source": [
    "# Standard libraries\n",
    "import numpy as np\n",
    "import pandas as pd\n",
    "import glob, os\n",
    "\n",
    "# For loading matlab data files\n",
    "from impdar.lib.load import load\n",
    "from scipy.io import loadmat"
   ]
  },
  {
   "cell_type": "code",
   "execution_count": null,
   "id": "6ce11a48-481c-4d4e-b850-d0e9089ec7f7",
   "metadata": {
    "tags": []
   },
   "outputs": [],
   "source": [
    "### Set up the data directories ###\n",
    "\n",
    "# a base directory where I keep data to be loaded below\n",
    "data_dir = os.getenv('DATAHOME')\n",
    "# quick error check to make sure $DATAHOME is set\n",
    "if data_dir is None:\n",
    "    raise OSError('environment variable $DATAHOME does not exist')\n",
    "\n",
    "cresis_siple_dir = 'airborne-radar/cresis/siple-coast/'\n",
    "standard_dir = data_dir + cresis_siple_dir + 'CSARP_standard/'\n",
    "layer_dir = data_dir + cresis_siple_dir + 'CSARP_layerData/'\n",
    "dir_names = glob.glob(standard_dir + '20*')"
   ]
  },
  {
   "cell_type": "code",
   "execution_count": null,
   "id": "20dbf430-672c-40b0-9f6c-44a6cc982740",
   "metadata": {
    "tags": []
   },
   "outputs": [],
   "source": [
    "### Initialize the pandas dataframe with variables that we want to load ###\n",
    "\n",
    "df = pd.DataFrame(columns=['Flight Day', 'Segment', 'Frame', 'Img Num',\n",
    "                            'GPS Day','Latitude', 'Longitude',\n",
    "                            'Elevation','Pitch','Roll',\n",
    "                            'X', 'Y',\n",
    "                            'Bed Time', 'Surface Time', \n",
    "                            'H', 'h',\n",
    "                            'P_bed', 'P_surf'],dtype=float)\n",
    "df[\"Flight Day\"] = df[\"Flight Day\"].astype(str)\n",
    "df[\"Segment\"] = df[\"Segment\"].astype(int)\n",
    "df[\"Frame\"] = df[\"Frame\"].astype(int)\n",
    "df[\"Img Num\"] = df[\"Img Num\"].astype(int)"
   ]
  },
  {
   "cell_type": "code",
   "execution_count": null,
   "id": "8a5355cb-bed0-4842-81c3-cbb1aac0d76c",
   "metadata": {
    "tags": []
   },
   "outputs": [],
   "source": [
    "### Loop through all the data files in the survey, loading data from each ###\n",
    "\n",
    "# constants\n",
    "c = 3e8              # free space velocity\n",
    "epsr_ice = 3.15      # ice permittivity\n",
    "c_ice = c/np.sqrt(epsr_ice)   # velocity in ice\n",
    "\n",
    "# window for peak power (in samples)\n",
    "win = 20\n",
    "\n",
    "# for each subdirectory\n",
    "for dname in dir_names:\n",
    "    print(dname)\n",
    "    # look for files with img_02\n",
    "    fnames = glob.glob(dname+'/*img_02*.mat')\n",
    "    img_num = 2\n",
    "    # if there are no img_02 use img_00\n",
    "    if len(fnames) == 0:\n",
    "        fnames = glob.glob(dname+'/Data_2*.mat')\n",
    "        img_num = 0\n",
    "        \n",
    "    # get day and segment from file name\n",
    "    flight_day = dname.split('/')[-1][:-3]\n",
    "    seg = int(dname.split('/')[-1][-2:])\n",
    "    print(flight_day,seg,len(fnames))\n",
    "        \n",
    "    # for each file in the subdirectory\n",
    "    for fname in fnames:\n",
    "        # get frame from file name\n",
    "        frame = int(fname.split('.')[-2][-3:])\n",
    "        # try to load the file with ImpDAR\n",
    "        try:\n",
    "            dat = load('mcords_mat',fname)[0]\n",
    "        except:\n",
    "            Warning('Cannot load:',fname)\n",
    "            continue\n",
    "        # georeference teh file from lat/long into polar stereographic\n",
    "        dat.get_projected_coords('epsg:3031')    \n",
    "        \n",
    "        # get the picked layer times from a separate file provided by CReSIS\n",
    "        layers = loadmat(layer_dir+dname[len(standard_dir):]+'/Data'+fname[-20:])['layerData']\n",
    "        btime = layers[0][1][0][0][0][0][1][0][0][0][0]\n",
    "        stime = layers[0][0][0][0][0][0][1][0][0][0][0]\n",
    "\n",
    "        # from times, get the image sample and power (if not peak power then move to peak)\n",
    "        bsamp = np.zeros_like(btime)\n",
    "        ssamp = np.zeros_like(stime)\n",
    "        pbed = np.empty_like(btime)\n",
    "        psurf = np.empty_like(stime)\n",
    "        # for every trace in the image\n",
    "        for trace in range(dat.tnum):\n",
    "            # get the bed power from the pick sample or nearby peak power\n",
    "            if np.isnan(btime[trace]):\n",
    "                bsamp[trace] = np.nan\n",
    "                pbed[trace] = np.nan\n",
    "            else:\n",
    "                b_idx = np.argmin(abs(btime[trace]-dat.travel_time*1e-6))\n",
    "                bsamp[trace] = b_idx\n",
    "                pbed[trace] = np.max(dat.data[b_idx-win:b_idx+win,trace])\n",
    "            # get the surface power from the pick sample or nearby peak power\n",
    "            if np.isnan(stime[trace]):\n",
    "                ssamp[trace] = np.nan\n",
    "                psurf[trace] = np.nan\n",
    "            else:\n",
    "                s_idx = np.argmin(abs(stime[trace]-dat.travel_time*1e-6))\n",
    "                ssamp[trace] = s_idx\n",
    "                psurf[trace] = np.max(dat.data[max(s_idx-win,0):s_idx+win,trace])\n",
    "                \n",
    "        # reload the data file for a few variables that are not loaded into ImpDAR by default\n",
    "        flight_data = loadmat(fname)\n",
    "        elev = np.squeeze(flight_data['Elevation'])\n",
    "        pitch = np.squeeze(flight_data['Pitch'])\n",
    "        roll = np.squeeze(flight_data['Roll'])\n",
    "        \n",
    "        # calculations\n",
    "        H = c_ice/2. * (btime-stime) # ice thickness\n",
    "        h = c/2. * stime             # aircraft height\n",
    "\n",
    "        # create a temporary dataframe to fill with data from this radar image\n",
    "        dfi = pd.DataFrame(np.transpose([np.zeros(dat.tnum),np.zeros(dat.tnum),np.zeros(dat.tnum),np.zeros(dat.tnum),\n",
    "                                         dat.decday,dat.lat,dat.long,elev,pitch,roll,\n",
    "                                         dat.x_coord,dat.y_coord,\n",
    "                                         btime, stime, H, h, pbed, psurf]),\n",
    "                           columns=df.columns)\n",
    "        dfi[\"Flight Day\"] = dfi[\"Flight Day\"].astype(str)\n",
    "        dfi[\"Segment\"] = dfi[\"Segment\"].astype(int)\n",
    "        dfi[\"Frame\"] = dfi[\"Frame\"].astype(int)\n",
    "        dfi[\"Img Num\"] = dfi[\"Img Num\"].astype(int)\n",
    "        dfi.loc[:,'Flight Day'] = flight_day\n",
    "        dfi.loc[:,'Segment'] = seg\n",
    "        dfi.loc[:,'Frame'] = frame\n",
    "        dfi.loc[:,'Img Num'] = img_num\n",
    "\n",
    "        # append the temporary dataframe to the full dataframe\n",
    "        df = pd.concat([df,dfi],axis=0,ignore_index=True)"
   ]
  },
  {
   "cell_type": "code",
   "execution_count": null,
   "id": "b082e90d-bbdb-489b-823a-e52c6b56f956",
   "metadata": {
    "tags": []
   },
   "outputs": [],
   "source": [
    "### Save the \"raw\" bed power dataframe as a csv file ###\n",
    "\n",
    "df.to_csv('Picked_Bed_Power.csv',index=False)"
   ]
  }
 ],
 "metadata": {
  "kernelspec": {
   "display_name": "Python 3 (ipykernel)",
   "language": "python",
   "name": "python3"
  },
  "language_info": {
   "codemirror_mode": {
    "name": "ipython",
    "version": 3
   },
   "file_extension": ".py",
   "mimetype": "text/x-python",
   "name": "python",
   "nbconvert_exporter": "python",
   "pygments_lexer": "ipython3",
   "version": "3.9.18"
  },
  "widgets": {
   "application/vnd.jupyter.widget-state+json": {
    "state": {},
    "version_major": 2,
    "version_minor": 0
   }
  }
 },
 "nbformat": 4,
 "nbformat_minor": 5
}
