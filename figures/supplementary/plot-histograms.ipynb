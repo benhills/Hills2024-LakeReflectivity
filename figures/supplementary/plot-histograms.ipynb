{
 "cells": [
  {
   "cell_type": "code",
   "execution_count": null,
   "id": "6c1d7465-6524-471a-93a9-c46e1093a5bd",
   "metadata": {
    "tags": []
   },
   "outputs": [],
   "source": [
    "import matplotlib.pyplot as plt\n",
    "import pandas as pd\n",
    "import numpy as np\n",
    "\n",
    "%matplotlib widget"
   ]
  },
  {
   "cell_type": "code",
   "execution_count": null,
   "id": "0a2cce58-c33a-4740-b965-4b4a05490a19",
   "metadata": {
    "tags": []
   },
   "outputs": [],
   "source": [
    "def plot_map_histogram(df,variable,bins1,bins2,vmin,vmax,label=''):\n",
    "    \n",
    "    plt.figure(figsize=(10,4))\n",
    "\n",
    "    ax1 = plt.subplot(121)\n",
    "    plt.scatter(df['X']/1000.,df['Y']/1000.,c=df[variable],cmap='magma',s=1,vmin=vmin,vmax=vmax)\n",
    "    plt.axis('equal')\n",
    "    plt.colorbar(orientation='vertical',label=label)\n",
    "    plt.xlabel('PS Easting (km)')\n",
    "    plt.ylabel('PS Northing (km)')\n",
    "    \n",
    "    ax2 = plt.subplot(122)\n",
    "    plt.hist(df[variable],bins=bins1,color='k');\n",
    "    # Grounded and Not a Lake\n",
    "    plt.hist(df[(df['Grounded']==True) & (df['Lake']==False)][variable],bins=bins1,color='grey');\n",
    "    # Floating\n",
    "    plt.hist(df[df['Grounded']==False][variable],bins=bins1,color='lightgrey');\n",
    "    # Lakes\n",
    "    plt.hist(df[df['Lake']==True][variable],bins=bins2,color='skyblue');\n",
    "\n",
    "    plt.xlim(vmin,vmax)\n",
    "    plt.ylabel('# Traces')\n",
    "    plt.xlabel(label)\n",
    "    plt.tight_layout()\n",
    "    \n",
    "    return"
   ]
  },
  {
   "cell_type": "code",
   "execution_count": null,
   "id": "35ff8404-c1ca-4fc2-b56d-5c1f1d2d3e54",
   "metadata": {
    "tags": []
   },
   "outputs": [],
   "source": [
    "### Load the processed reflectivity dataframe ###\n",
    "\n",
    "df = pd.read_csv('../../proc/Processed_Reflectivity.csv')"
   ]
  },
  {
   "cell_type": "code",
   "execution_count": null,
   "id": "e1c681d7-9949-4093-9114-88d12ec28718",
   "metadata": {
    "tags": []
   },
   "outputs": [],
   "source": [
    "# Raw Picked Power\n",
    "plot_map_histogram(df,'P_bed',500,100,-155,-75,label='Raw Bed Power (dB)')\n",
    "plt.savefig('fig-S1-1.png',dpi=300)"
   ]
  },
  {
   "cell_type": "code",
   "execution_count": null,
   "id": "fcd8e4e6-ce5e-453b-92ad-827a98c0802e",
   "metadata": {
    "tags": []
   },
   "outputs": [],
   "source": [
    "# Raw Picked Power of surface reflection\n",
    "plot_map_histogram(df,'P_surf',500,100,-110,-60,label='Raw Surface Power (dB)')\n",
    "plt.savefig('fig-S1-2.png',dpi=300)"
   ]
  },
  {
   "cell_type": "code",
   "execution_count": null,
   "id": "bd5a87c0-5dab-4f59-8780-18bc483c3268",
   "metadata": {
    "tags": []
   },
   "outputs": [],
   "source": [
    "# Crossover Adjustments\n",
    "df['M'] = df['P_bed_adj'] - df['P_bed']\n",
    "plot_map_histogram(df,'M',35,35,-20,20,'Crossover Adjustment (dB)')\n",
    "plt.savefig('fig-S1-3.png',dpi=300)"
   ]
  },
  {
   "cell_type": "code",
   "execution_count": null,
   "id": "a6309087-5eac-4cdc-ab64-86c292d9d641",
   "metadata": {
    "tags": []
   },
   "outputs": [],
   "source": [
    "# Aircraft height above ice\n",
    "plot_map_histogram(df,'h',500,100,100,2100,'Aircraft Height (m)')\n",
    "plt.savefig('fig-S1-4.png',dpi=300)\n",
    "# Ice Thickness\n",
    "plot_map_histogram(df,'H',500,100,400,900,'Ice Thickness (m)')\n",
    "plt.savefig('fig-S1-5.png',dpi=300)"
   ]
  },
  {
   "cell_type": "code",
   "execution_count": null,
   "id": "b215f750-6004-45fb-97fa-23db0a85e496",
   "metadata": {
    "tags": []
   },
   "outputs": [],
   "source": [
    "# Relative Reflectivity for 3 different attenuation rates\n",
    "\n",
    "epsr_ice = 3.15\n",
    "\n",
    "# 5 dB/km\n",
    "label = 'R5'\n",
    "G = 20*np.log10(2.*(df['h'] + df['H']/np.sqrt(epsr_ice)))\n",
    "N = 5   # Attenuation\n",
    "L = 2.*N * df['H']/1000.   # one-way rate (dB/km)\n",
    "df[label] = df['P_bed_adj'] + G + L  # Reflectivity\n",
    "df[label] -= df[label].mean()  # Move the mean to 0\n",
    "plot_map_histogram(df,label,500,100,-30,30,'[R] (with 5 dB/km attenuation)')\n",
    "plt.savefig('fig-S1-6.png',dpi=300)\n",
    "\n",
    "# 10 dB/km\n",
    "label = 'R10'\n",
    "G = 20*np.log10(2.*(df['h'] + df['H']/np.sqrt(epsr_ice)))\n",
    "N = 10   # Attenuation\n",
    "L = 2.*N * df['H']/1000.   # one-way rate (dB/km)\n",
    "df[label] = df['P_bed_adj'] + G + L  # Reflectivity\n",
    "df[label] -= df[label].mean()  # Move the mean to 0\n",
    "plot_map_histogram(df,label,500,100,-30,30,'[R] (with 10 dB/km attenuation)')\n",
    "plt.savefig('fig-S1-7.png',dpi=300)\n",
    "\n",
    "# 15 dB/km\n",
    "label = 'R15'\n",
    "G = 20*np.log10(2.*(df['h'] + df['H']/np.sqrt(epsr_ice)))\n",
    "N = 15   # Attenuation\n",
    "L = 2.*N * df['H']/1000.   # one-way rate (dB/km)\n",
    "df[label] = df['P_bed_adj'] + G + L  # Reflectivity\n",
    "df[label] -= df[label].mean()  # Move the mean to 0\n",
    "plot_map_histogram(df,label,500,100,-30,30,'[R] (with 15 dB/km attenuation)')\n",
    "plt.savefig('fig-S1-8.png',dpi=300)"
   ]
  },
  {
   "cell_type": "code",
   "execution_count": null,
   "id": "72fcbe23-6379-4373-9ca9-617b161790de",
   "metadata": {
    "tags": []
   },
   "outputs": [],
   "source": [
    "### Calculate RMS height of ice surface and bed ###\n",
    "\n",
    "df['S'] = df['Elevation'] - df['h']\n",
    "df['B'] = df['S'] - df['H']\n",
    "\n",
    "df['RMS_S'] = np.nan*df['X']\n",
    "df['RMS_B'] = np.nan*df['X']\n",
    "c = 3e8\n",
    "epsr_ice = 3.15\n",
    "c_ice = c/np.sqrt(epsr_ice)\n",
    "freq = 300e6\n",
    "lam_air = c/freq\n",
    "lam_ice = c/freq/np.sqrt(epsr_ice)\n",
    "\n",
    "def rms_height(h):\n",
    "    h_ = h - np.nanmean(h)\n",
    "    rms_h = np.sqrt(np.nanmean(h_**2.))\n",
    "    return rms_h\n",
    "\n",
    "def moving_rms_height(H,win):\n",
    "    out = np.nan*np.ones_like(H)\n",
    "    for i in range(len(H)):\n",
    "        h = H[max(0,i-win//2):min(len(H),i+win//2)]\n",
    "        out[i] = rms_height(h)\n",
    "    return out\n",
    "\n",
    "fdays = df['Flight Day'].unique()\n",
    "for d in fdays:\n",
    "    print('Flight Day',d)\n",
    "    segs = df[df['Flight Day']==d]['Segment'].unique()\n",
    "    for s in segs:\n",
    "        print('Segment',s)\n",
    "        frames = df[(df['Flight Day']==d) & (df['Segment']==s)]['Frame'].unique()\n",
    "        for f in frames:\n",
    "            idxs = (df['Flight Day']==d) & (df['Segment']==s) & (df['Frame']==f)\n",
    "\n",
    "            h = np.nanmean(df.loc[idxs,'h'])\n",
    "            H = np.nanmean(df.loc[idxs,'H'])\n",
    "            Dsurf = np.sqrt(2.*lam_air*h)\n",
    "            Dbed = np.sqrt(2.*(lam_air*h+lam_ice*H/np.sqrt(epsr_ice)))\n",
    "            x = df.loc[idxs,'X'].values\n",
    "            y = df.loc[idxs,'Y'].values\n",
    "            dist = np.sqrt((x[1:]-x[:-1])**2.+(y[1:]-y[:-1])**2.)\n",
    "            dx = np.nanmedian(dist)\n",
    "            \n",
    "            bin_size = int(max(2,Dsurf//dx))\n",
    "            df.loc[idxs,'RMS_S'] = moving_rms_height(df['S'][idxs].values,bin_size)\n",
    "            bin_size = int(max(2,Dbed//dx))\n",
    "            df.loc[idxs,'RMS_B'] = moving_rms_height(df['B'][idxs].values,bin_size)"
   ]
  },
  {
   "cell_type": "code",
   "execution_count": null,
   "id": "0d2d50ca-5431-4925-9f38-4a5c86a33229",
   "metadata": {
    "tags": []
   },
   "outputs": [],
   "source": [
    "# Surface Elevation\n",
    "plot_map_histogram(df,'S',500,100,0,120,'Surface Elevation (m)')\n",
    "plt.savefig('fig-S1-9.png',dpi=300)\n",
    "# Surface RMS Height\n",
    "plot_map_histogram(df,'RMS_S',5000,1000,0,.05,'RMS Surface Height (m)')\n",
    "plt.savefig('fig-S1-10.png',dpi=300)"
   ]
  },
  {
   "cell_type": "code",
   "execution_count": null,
   "id": "ba15d8e2-8279-45e1-9444-a8bfc48724f1",
   "metadata": {
    "tags": []
   },
   "outputs": [],
   "source": [
    "# Bed Elevation\n",
    "plot_map_histogram(df,'B',500,100,-800,-300,'Bed Elevation (m)')\n",
    "plt.savefig('fig-S1-11.png',dpi=300)\n",
    "# Bed RMS Height\n",
    "plot_map_histogram(df,'RMS_B',5000,1000,0,.5,'RMS Bed Height (m)')\n",
    "plt.savefig('fig-S1-12.png',dpi=300)"
   ]
  },
  {
   "cell_type": "code",
   "execution_count": null,
   "id": "32084ef9-c150-4344-9307-7176c1e81b0c",
   "metadata": {},
   "outputs": [],
   "source": []
  }
 ],
 "metadata": {
  "kernelspec": {
   "display_name": "Python 3 (ipykernel)",
   "language": "python",
   "name": "python3"
  },
  "language_info": {
   "codemirror_mode": {
    "name": "ipython",
    "version": 3
   },
   "file_extension": ".py",
   "mimetype": "text/x-python",
   "name": "python",
   "nbconvert_exporter": "python",
   "pygments_lexer": "ipython3",
   "version": "3.10.13"
  },
  "widgets": {
   "application/vnd.jupyter.widget-state+json": {
    "state": {},
    "version_major": 2,
    "version_minor": 0
   }
  }
 },
 "nbformat": 4,
 "nbformat_minor": 5
}
