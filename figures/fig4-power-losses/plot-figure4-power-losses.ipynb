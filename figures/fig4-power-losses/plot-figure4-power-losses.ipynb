{
 "cells": [
  {
   "cell_type": "code",
   "execution_count": null,
   "id": "430b7b20-4b07-4194-a55a-06c3eba9ebdd",
   "metadata": {
    "tags": []
   },
   "outputs": [],
   "source": [
    "import numpy as np\n",
    "import matplotlib.pyplot as plt\n",
    "from matplotlib.gridspec import GridSpec\n",
    "from matplotlib.collections import LineCollection\n",
    "\n",
    "from scipy.special import i0\n",
    "import miepython"
   ]
  },
  {
   "cell_type": "code",
   "execution_count": null,
   "id": "8b3992d9-c5c3-4acb-ba87-49f76a3195e9",
   "metadata": {
    "tags": []
   },
   "outputs": [],
   "source": [
    "### Surface Scattering ###\n",
    "\n",
    "epsr_ice = 3.15\n",
    "nice = np.sqrt(epsr_ice)\n",
    "fc = 60e6\n",
    "vice = 3e8/nice\n",
    "λ = vice/fc\n",
    "\n",
    "S = np.linspace(0,10.,100)\n",
    "g = 4.*np.pi*S/λ\n",
    "ρ_bed = np.exp(-g**2.)*i0(g**2./2.)**2.\n",
    "\n",
    "g = 4.*np.pi*(S/λ)*(np.sqrt(epsr_ice)-1.)\n",
    "ρ_surf = np.exp(-g**2.)*i0(g**2./2.)**2."
   ]
  },
  {
   "cell_type": "code",
   "execution_count": null,
   "id": "bec6ed28-5510-4f45-bdb7-381103f2a9c4",
   "metadata": {
    "tags": []
   },
   "outputs": [],
   "source": [
    "### Volume Scattering ###\n",
    "\n",
    "nwater = np.sqrt(80)\n",
    "nsediment = np.sqrt(5.)\n",
    "\n",
    "r = np.linspace(0.00001,.25,100)\n",
    "x = 2.*np.pi*r/λ\n",
    "\n",
    "m = nwater/nice\n",
    "qext, q_water, qback, g = miepython.mie(m, x)\n",
    "ϕ = np.array([.1,.3])\n",
    "τ = (ϕ[0]/(4./3.*r), ϕ[1]/(4./3.*r))*q_water\n",
    "L_water = 10.*np.log10(np.exp(2.*τ))\n",
    "\n",
    "m = nsediment/nice\n",
    "qext, q_sediment, qback, g = miepython.mie(m, x)\n",
    "τ = (ϕ[0]/(4./3.*r), ϕ[1]/(4./3.*r))*q_sediment\n",
    "L_sediment = 10.*np.log10(np.exp(2.*τ))"
   ]
  },
  {
   "cell_type": "code",
   "execution_count": null,
   "id": "3e901e61-7db0-4c9c-b256-16580a208ba6",
   "metadata": {
    "tags": []
   },
   "outputs": [],
   "source": [
    "### Thermal Attenuation ###\n",
    "\n",
    "T0 = 273.5\n",
    "Ts = T0 + np.linspace(-30,0,1000)\n",
    "\n",
    "# MacGregor 2007\n",
    "σ0 = 7.2\n",
    "σvar = 3.1\n",
    "E0 = .55\n",
    "Evar = .05\n",
    "k = 8.6173303e-5\n",
    "Tr = 251.\n",
    "σ = σ0*np.exp(E0/k*(1./Tr-1./Ts))\n",
    "\n",
    "# Winebrenner (2003)\n",
    "N_temp = 0.912*σ"
   ]
  },
  {
   "cell_type": "code",
   "execution_count": null,
   "id": "33ba7519-52c9-403d-a949-6481a8aaf6b5",
   "metadata": {
    "tags": []
   },
   "outputs": [],
   "source": [
    "### Water Attenuation ###\n",
    "\n",
    "ϕs = np.linspace(0.0,0.3,100)\n",
    "y = 1.67\n",
    "ϕc = 0.0\n",
    "\n",
    "σw1 = 530\n",
    "σws1 = σw1*(ϕs)**y+σ0*(1.-ϕs)*np.exp(E0/k*(1./Tr-1./T0))\n",
    "N_high = 0.912*σws1\n",
    "\n",
    "σw2 = 72000\n",
    "σws2 = σw2*(ϕs)**y+σ0*(1.-ϕs)*np.exp(E0/k*(1./Tr-1./T0))\n",
    "N_low = 0.912*σws2"
   ]
  },
  {
   "cell_type": "code",
   "execution_count": null,
   "id": "d3828690-0859-44aa-a7a0-451e158db7b8",
   "metadata": {
    "tags": []
   },
   "outputs": [],
   "source": [
    "fig = plt.figure(figsize=(12,3))\n",
    "gs = GridSpec(2,4)\n",
    "\n",
    "\n",
    "### Surface Scattering ###\n",
    "\n",
    "ax1 = plt.subplot(gs[:,0])\n",
    "plt.plot(S,-10.*np.log10(ρ_bed),'k')\n",
    "plt.plot(S,-10.*np.log10(ρ_surf),'k:')\n",
    "plt.ylim(0,40)\n",
    "plt.xlim(0,1.)\n",
    "plt.ylabel('Power Loss (dB)')\n",
    "plt.xlabel('RMS Height (m)')\n",
    "\n",
    "\n",
    "### Volume Scattering ###\n",
    "\n",
    "ax2 = plt.subplot(gs[0,1])\n",
    "plt.plot(r,L_water[0],'steelblue',ls='--')\n",
    "plt.plot(r,L_water[1],'steelblue',ls=':')\n",
    "plt.plot(r,L_sediment[0],'k',ls='--')\n",
    "plt.plot(r,L_sediment[1],'k',ls=':')\n",
    "plt.xlim(0,.1)\n",
    "plt.ylim(2.5,100)\n",
    "plt.ylabel('(dB/m)')\n",
    "\n",
    "ax3 = plt.subplot(gs[1,1])\n",
    "plt.plot(r,L_water[0],'steelblue',ls='--')\n",
    "plt.plot(r,L_water[1],'steelblue',ls=':')\n",
    "plt.plot(r,L_sediment[0],'k',ls='--')\n",
    "plt.plot(r,L_sediment[1],'k',ls=':')\n",
    "plt.xlim(0,.1)\n",
    "plt.ylim(0,2.5)\n",
    "plt.xlabel('Pore Radius (m)')\n",
    "\n",
    "# hide the spines between ax and ax2\n",
    "ax2.spines.bottom.set_visible(False)\n",
    "ax3.spines.top.set_visible(False)\n",
    "ax2.xaxis.tick_top()\n",
    "ax2.tick_params(labeltop=False)  # don't put tick labels at the top\n",
    "ax3.xaxis.tick_bottom()\n",
    "\n",
    "d = .5  # proportion of vertical to horizontal extent of the slanted line\n",
    "kwargs = dict(marker=[(-1, -d), (1, d)], markersize=12,\n",
    "              linestyle=\"none\", color='k', mec='k', mew=1, clip_on=False)\n",
    "ax2.plot([0, 1], [0, 0], transform=ax2.transAxes, **kwargs)\n",
    "ax3.plot([0, 1], [1, 1], transform=ax3.transAxes, **kwargs)\n",
    "\n",
    "\n",
    "### Thermal Attenuation ###\n",
    "\n",
    "ax4 = plt.subplot(gs[:,2])\n",
    "ax4.tick_params(labelleft=False)\n",
    "plt.plot(Ts-T0,N_temp/1000.,c='k')\n",
    "plt.xlim(-30,0)\n",
    "plt.xticks([-30,-20,-10,0])\n",
    "ax4.yaxis.tick_right()\n",
    "plt.xlabel('Ice Temperature ($^\\circ$C)')\n",
    "plt.ylim(-.01,.5)\n",
    "\n",
    "\n",
    "### Englacial Water Attenuation ###\n",
    "\n",
    "ax5 = plt.subplot(gs[:,3])\n",
    "plt.fill_between(ϕs,N_low/1000.,N_high/1000.,color='skyblue')\n",
    "plt.plot(ϕs,N_low/1000.,'navy')\n",
    "plt.plot(ϕs,N_high/1000.,c='navy')\n",
    "plt.xlim(0,.3)\n",
    "plt.xticks([0,0.1,0.2,0.3])\n",
    "plt.ylim(-.01,.5)\n",
    "plt.xlabel('Water Content')\n",
    "plt.ylabel('Attenuation Rate (dB/m)')\n",
    "ax5.yaxis.set_label_position(\"right\")\n",
    "ax5.yaxis.tick_right()\n",
    "\n",
    "fig.subplots_adjust(hspace=.05)  # adjust space between axes\n",
    "plt.tight_layout()\n",
    "plt.savefig('PowerLosses.pdf')"
   ]
  }
 ],
 "metadata": {
  "kernelspec": {
   "display_name": "Python 3 (ipykernel)",
   "language": "python",
   "name": "python3"
  },
  "language_info": {
   "codemirror_mode": {
    "name": "ipython",
    "version": 3
   },
   "file_extension": ".py",
   "mimetype": "text/x-python",
   "name": "python",
   "nbconvert_exporter": "python",
   "pygments_lexer": "ipython3",
   "version": "3.10.13"
  },
  "widgets": {
   "application/vnd.jupyter.widget-state+json": {
    "state": {},
    "version_major": 2,
    "version_minor": 0
   }
  }
 },
 "nbformat": 4,
 "nbformat_minor": 5
}
