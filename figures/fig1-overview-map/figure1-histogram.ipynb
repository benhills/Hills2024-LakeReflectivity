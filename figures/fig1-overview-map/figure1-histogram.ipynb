{
 "cells": [
  {
   "cell_type": "code",
   "execution_count": null,
   "id": "a2237c5d-c458-4329-8188-381285596c4e",
   "metadata": {
    "tags": []
   },
   "outputs": [],
   "source": [
    "import matplotlib.pyplot as plt\n",
    "import pandas as pd\n",
    "import numpy as np\n",
    "\n",
    "%matplotlib widget"
   ]
  },
  {
   "cell_type": "code",
   "execution_count": null,
   "id": "da552cac-2fa7-4cab-a25d-5e9840b24085",
   "metadata": {
    "tags": []
   },
   "outputs": [],
   "source": [
    "### Load the processed reflectivity dataframe ###\n",
    "\n",
    "df = pd.read_csv('../../proc/Processed_Reflectivity.csv')"
   ]
  },
  {
   "cell_type": "code",
   "execution_count": null,
   "id": "618cf1db-9790-476f-9a42-ea2924d768fe",
   "metadata": {
    "tags": []
   },
   "outputs": [],
   "source": [
    "plt.figure()\n",
    "ax1 = plt.subplot(111)\n",
    "df.plot.scatter(ax=ax1,x='X',y='Y',c='Relative Reflectivity',cmap='magma',s=1,vmin=-25,vmax=15)"
   ]
  },
  {
   "cell_type": "code",
   "execution_count": null,
   "id": "8fe7e243-4edd-4219-bd14-8e784cf3dc59",
   "metadata": {
    "tags": []
   },
   "outputs": [],
   "source": [
    "%matplotlib inline\n",
    "\n",
    "plt.figure(figsize=(4,4))\n",
    "ax1 = plt.subplot(111)\n",
    "\n",
    "bins = np.arange(-50,50,.25)\n",
    "#bins = np.linspace(-45,35,250)\n",
    "plt.hist(df['Relative Reflectivity'],bins=bins,color='k',rasterized=True);\n",
    "# Grounded and Not a Lake\n",
    "plt.hist(df[(df['Grounded']==True) & (df['Lake']==False)]['Relative Reflectivity'],bins=bins,color='grey',rasterized=True);\n",
    "# Floating\n",
    "plt.hist(df[df['Grounded']==False]['Relative Reflectivity'],bins=bins,color='lightgrey',rasterized=True);\n",
    "# Lakes\n",
    "bins = np.arange(-50,50,.5)\n",
    "plt.hist(df[df['Lake']==True]['Relative Reflectivity'],bins=bins,color='cyan',rasterized=True);\n",
    "\n",
    "plt.xlim(-32,32)\n",
    "plt.ylabel('# Traces')\n",
    "plt.xlabel('Relative Reflectivity (dB)')\n",
    "plt.tight_layout()\n",
    "\n",
    "plt.savefig('figure1-histogram.pdf',dpi=300,facecolor='none')"
   ]
  },
  {
   "cell_type": "code",
   "execution_count": null,
   "id": "1105a2ac-f805-4105-a993-fac305bd5109",
   "metadata": {
    "tags": []
   },
   "outputs": [],
   "source": [
    "print('All Traces Mean:',df['Relative Reflectivity'].mean())\n",
    "print('Grounded Mean:',df[(df['Grounded']==True) & (df['Lake']==False)]['Relative Reflectivity'].mean())\n",
    "print('Floating Mean:',df[df['Grounded']==False]['Relative Reflectivity'].mean())\n",
    "print('Lake Mean:',df[df['Lake']==True]['Relative Reflectivity'].mean())\n",
    "for i,lake in enumerate(lakes):\n",
    "    print(lake+' Mean:',df[df[lake]==True]['Relative Reflectivity'].mean())"
   ]
  }
 ],
 "metadata": {
  "kernelspec": {
   "display_name": "Python 3 (ipykernel)",
   "language": "python",
   "name": "python3"
  },
  "language_info": {
   "codemirror_mode": {
    "name": "ipython",
    "version": 3
   },
   "file_extension": ".py",
   "mimetype": "text/x-python",
   "name": "python",
   "nbconvert_exporter": "python",
   "pygments_lexer": "ipython3",
   "version": "3.10.13"
  },
  "widgets": {
   "application/vnd.jupyter.widget-state+json": {
    "state": {
     "1db96afefc3e482ea110dc5d4c5f8526": {
      "model_module": "@jupyter-widgets/base",
      "model_module_version": "2.0.0",
      "model_name": "LayoutModel",
      "state": {}
     },
     "59d67595a53d4019b416b21c79fb11a1": {
      "model_module": "jupyter-matplotlib",
      "model_module_version": "2.0.0",
      "model_name": "ToolbarModel",
      "state": {
       "_current_action": "",
       "_model_module": "jupyter-matplotlib",
       "_model_name": "ToolbarModel",
       "_view_name": "ErrorWidgetView",
       "button_style": "",
       "collapsed": true,
       "error": {},
       "layout": "IPY_MODEL_1db96afefc3e482ea110dc5d4c5f8526",
       "msg": "Failed to load model class 'ToolbarModel' from module 'jupyter-matplotlib'",
       "orientation": "vertical",
       "toolitems": [
        [
         "Home",
         "Reset original view",
         "home",
         "home"
        ],
        [
         "Back",
         "Back to previous view",
         "arrow-left",
         "back"
        ],
        [
         "Forward",
         "Forward to next view",
         "arrow-right",
         "forward"
        ],
        [
         "Pan",
         "Left button pans, Right button zooms\nx/y fixes axis, CTRL fixes aspect",
         "arrows",
         "pan"
        ],
        [
         "Zoom",
         "Zoom to rectangle\nx/y fixes axis",
         "square-o",
         "zoom"
        ],
        [
         "Download",
         "Download plot",
         "floppy-o",
         "save_figure"
        ]
       ]
      }
     },
     "c38d2edeac2246448c2455839bcb0fbd": {
      "model_module": "@jupyter-widgets/base",
      "model_module_version": "2.0.0",
      "model_name": "LayoutModel",
      "state": {}
     }
    },
    "version_major": 2,
    "version_minor": 0
   }
  }
 },
 "nbformat": 4,
 "nbformat_minor": 5
}
