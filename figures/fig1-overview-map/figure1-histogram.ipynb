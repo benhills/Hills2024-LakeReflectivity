{
 "cells": [
  {
   "cell_type": "markdown",
   "id": "a594d27b-4570-434a-88e1-62890b0e4892",
   "metadata": {},
   "source": [
    "# Figure 1 Histogram\n",
    "\n",
    "Plot a histogram of all the calculated reflectivities and sorted by lake, grounded, floating. This is the histogram portion of Figure 1."
   ]
  },
  {
   "cell_type": "code",
   "execution_count": null,
   "id": "a2237c5d-c458-4329-8188-381285596c4e",
   "metadata": {
    "tags": []
   },
   "outputs": [],
   "source": [
    "# Standard Imports\n",
    "import numpy as np\n",
    "import pandas as pd\n",
    "\n",
    "# Plotting\n",
    "import matplotlib.pyplot as plt\n",
    "%matplotlib widget"
   ]
  },
  {
   "cell_type": "code",
   "execution_count": null,
   "id": "da552cac-2fa7-4cab-a25d-5e9840b24085",
   "metadata": {
    "tags": []
   },
   "outputs": [],
   "source": [
    "### Load the processed reflectivity dataframe ###\n",
    "\n",
    "import os\n",
    "\n",
    "# If the previous notebook has not been run to get bed-echo power download it from Zenodo\n",
    "fn = '../../proc/Processed_Reflectivity.csv'\n",
    "if not os.path.exists(fn):\n",
    "    os.system('wget -L https://zenodo.org/records/11201199/files/Picked_Bed_Power.csv -O ../../proc/Processed_Reflectivity.csv');\n",
    "# Read as pandas dataframe\n",
    "df = pd.read_csv(fn)"
   ]
  },
  {
   "cell_type": "code",
   "execution_count": null,
   "id": "618cf1db-9790-476f-9a42-ea2924d768fe",
   "metadata": {
    "tags": []
   },
   "outputs": [],
   "source": [
    "### Map view plot ###\n",
    "\n",
    "plt.figure()\n",
    "ax1 = plt.subplot(111)\n",
    "df.plot.scatter(ax=ax1,x='X',y='Y',c='Relative Reflectivity',cmap='magma',s=1,vmin=-25,vmax=15)"
   ]
  },
  {
   "cell_type": "code",
   "execution_count": null,
   "id": "8fe7e243-4edd-4219-bd14-8e784cf3dc59",
   "metadata": {
    "tags": []
   },
   "outputs": [],
   "source": [
    "### Histogram ###\n",
    "\n",
    "plt.figure(figsize=(4,4))\n",
    "ax1 = plt.subplot(111)\n",
    "\n",
    "bins = np.arange(-50,50,.25)\n",
    "plt.hist(df['Relative Reflectivity'],bins=bins,color='k',rasterized=True);\n",
    "\n",
    "# Grounded and Not a Lake\n",
    "plt.hist(df[(df['Grounded']==True) & (df['Lake']==False)]['Relative Reflectivity'],bins=bins,color='grey',rasterized=True);\n",
    "# Floating\n",
    "plt.hist(df[df['Grounded']==False]['Relative Reflectivity'],bins=bins,color='lightgrey',rasterized=True);\n",
    "# Lakes\n",
    "bins = np.arange(-50,50,.5)\n",
    "plt.hist(df[df['Lake']==True]['Relative Reflectivity'],bins=bins,color='cyan',rasterized=True);\n",
    "\n",
    "plt.xlim(-32,32)\n",
    "plt.ylabel('# Traces')\n",
    "plt.xlabel('Relative Reflectivity (dB)')\n",
    "plt.tight_layout()\n",
    "\n",
    "plt.savefig('figure1-histogram.pdf',dpi=300,facecolor='none')"
   ]
  },
  {
   "cell_type": "code",
   "execution_count": null,
   "id": "1105a2ac-f805-4105-a993-fac305bd5109",
   "metadata": {
    "tags": []
   },
   "outputs": [],
   "source": [
    "### Print out some summary statistics ###\n",
    "\n",
    "print('All Traces Mean:',df['Relative Reflectivity'].mean())\n",
    "print('Grounded Non-Lake Mean:',df[(df['Grounded']==True) & (df['Lake']==False)]['Relative Reflectivity'].mean())\n",
    "print('Floating Mean:',df[df['Grounded']==False]['Relative Reflectivity'].mean())\n",
    "print('Lake Mean:',df[df['Lake']==True]['Relative Reflectivity'].mean())\n",
    "lakes = ['EngelhardtSubglacialLake', 'WhillansSubglacialLake', 'Whillans_6', 'Whillans_7', 'Whillans_8', 'Lake78', 'Lake10']\n",
    "for i,lake in enumerate(lakes):\n",
    "    print(lake+' Mean:',df[df[lake]==True]['Relative Reflectivity'].mean())"
   ]
  }
 ],
 "metadata": {
  "kernelspec": {
   "display_name": "Python 3 (ipykernel)",
   "language": "python",
   "name": "python3"
  },
  "language_info": {
   "codemirror_mode": {
    "name": "ipython",
    "version": 3
   },
   "file_extension": ".py",
   "mimetype": "text/x-python",
   "name": "python",
   "nbconvert_exporter": "python",
   "pygments_lexer": "ipython3",
   "version": "3.9.18"
  },
  "widgets": {
   "application/vnd.jupyter.widget-state+json": {
    "state": {
     "2c840f9febf248f086db378f56df5a72": {
      "model_module": "@jupyter-widgets/base",
      "model_module_version": "2.0.0",
      "model_name": "LayoutModel",
      "state": {
       "_model_name": "LayoutModel",
       "_view_name": "ErrorWidgetView",
       "align_content": null,
       "align_items": null,
       "align_self": null,
       "border": null,
       "bottom": null,
       "display": null,
       "error": {},
       "flex": null,
       "flex_flow": null,
       "grid_area": null,
       "grid_auto_columns": null,
       "grid_auto_flow": null,
       "grid_auto_rows": null,
       "grid_column": null,
       "grid_gap": null,
       "grid_row": null,
       "grid_template_areas": null,
       "grid_template_columns": null,
       "grid_template_rows": null,
       "height": null,
       "justify_content": null,
       "justify_items": null,
       "left": null,
       "margin": null,
       "max_height": null,
       "max_width": null,
       "min_height": null,
       "min_width": null,
       "msg": "Failed to load model class 'LayoutModel' from module '@jupyter-widgets/base'",
       "object_fit": null,
       "object_position": null,
       "order": null,
       "overflow": null,
       "overflow_x": null,
       "overflow_y": null,
       "padding": null,
       "right": null,
       "top": null,
       "visibility": null,
       "width": null
      }
     },
     "52cfc838d9864ed7a4956f272b2c84d0": {
      "model_module": "jupyter-matplotlib",
      "model_module_version": "^0.11",
      "model_name": "ToolbarModel",
      "state": {
       "_model_module_version": "^0.11",
       "_view_module_version": "^0.11",
       "collapsed": true,
       "layout": "IPY_MODEL_2c840f9febf248f086db378f56df5a72",
       "orientation": "vertical",
       "toolitems": [
        [
         "Home",
         "Reset original view",
         "home",
         "home"
        ],
        [
         "Back",
         "Back to previous view",
         "arrow-left",
         "back"
        ],
        [
         "Forward",
         "Forward to next view",
         "arrow-right",
         "forward"
        ],
        [
         "Pan",
         "Left button pans, Right button zooms\nx/y fixes axis, CTRL fixes aspect",
         "arrows",
         "pan"
        ],
        [
         "Zoom",
         "Zoom to rectangle\nx/y fixes axis",
         "square-o",
         "zoom"
        ],
        [
         "Download",
         "Download plot",
         "floppy-o",
         "save_figure"
        ]
       ]
      }
     },
     "548d5f234c0a413daee57705335e1bb6": {
      "model_module": "@jupyter-widgets/base",
      "model_module_version": "2.0.0",
      "model_name": "LayoutModel",
      "state": {
       "_model_name": "LayoutModel",
       "_view_name": "ErrorWidgetView",
       "align_content": null,
       "align_items": null,
       "align_self": null,
       "border": null,
       "bottom": null,
       "display": null,
       "error": {},
       "flex": null,
       "flex_flow": null,
       "grid_area": null,
       "grid_auto_columns": null,
       "grid_auto_flow": null,
       "grid_auto_rows": null,
       "grid_column": null,
       "grid_gap": null,
       "grid_row": null,
       "grid_template_areas": null,
       "grid_template_columns": null,
       "grid_template_rows": null,
       "height": null,
       "justify_content": null,
       "justify_items": null,
       "left": null,
       "margin": null,
       "max_height": null,
       "max_width": null,
       "min_height": null,
       "min_width": null,
       "msg": "Failed to load model class 'LayoutModel' from module '@jupyter-widgets/base'",
       "object_fit": null,
       "object_position": null,
       "order": null,
       "overflow": null,
       "overflow_x": null,
       "overflow_y": null,
       "padding": null,
       "right": null,
       "top": null,
       "visibility": null,
       "width": null
      }
     },
     "73ff2ebafdf54be6985e31418b6f3f9b": {
      "model_module": "@jupyter-widgets/base",
      "model_module_version": "2.0.0",
      "model_name": "LayoutModel",
      "state": {
       "_model_name": "LayoutModel",
       "_view_name": "ErrorWidgetView",
       "align_content": null,
       "align_items": null,
       "align_self": null,
       "border": null,
       "bottom": null,
       "display": null,
       "error": {},
       "flex": null,
       "flex_flow": null,
       "grid_area": null,
       "grid_auto_columns": null,
       "grid_auto_flow": null,
       "grid_auto_rows": null,
       "grid_column": null,
       "grid_gap": null,
       "grid_row": null,
       "grid_template_areas": null,
       "grid_template_columns": null,
       "grid_template_rows": null,
       "height": null,
       "justify_content": null,
       "justify_items": null,
       "left": null,
       "margin": null,
       "max_height": null,
       "max_width": null,
       "min_height": null,
       "min_width": null,
       "msg": "Failed to load model class 'LayoutModel' from module '@jupyter-widgets/base'",
       "object_fit": null,
       "object_position": null,
       "order": null,
       "overflow": null,
       "overflow_x": null,
       "overflow_y": null,
       "padding": null,
       "right": null,
       "top": null,
       "visibility": null,
       "width": null
      }
     },
     "90c6000131aa4b4db90c613a160be5bf": {
      "model_module": "jupyter-matplotlib",
      "model_module_version": "^0.11",
      "model_name": "ToolbarModel",
      "state": {
       "_model_module_version": "^0.11",
       "_view_module_version": "^0.11",
       "collapsed": true,
       "layout": "IPY_MODEL_548d5f234c0a413daee57705335e1bb6",
       "orientation": "vertical",
       "toolitems": [
        [
         "Home",
         "Reset original view",
         "home",
         "home"
        ],
        [
         "Back",
         "Back to previous view",
         "arrow-left",
         "back"
        ],
        [
         "Forward",
         "Forward to next view",
         "arrow-right",
         "forward"
        ],
        [
         "Pan",
         "Left button pans, Right button zooms\nx/y fixes axis, CTRL fixes aspect",
         "arrows",
         "pan"
        ],
        [
         "Zoom",
         "Zoom to rectangle\nx/y fixes axis",
         "square-o",
         "zoom"
        ],
        [
         "Download",
         "Download plot",
         "floppy-o",
         "save_figure"
        ]
       ]
      }
     },
     "96483cdad3df455db2187b8fb4381521": {
      "model_module": "@jupyter-widgets/base",
      "model_module_version": "2.0.0",
      "model_name": "LayoutModel",
      "state": {
       "_model_name": "LayoutModel",
       "_view_name": "ErrorWidgetView",
       "align_content": null,
       "align_items": null,
       "align_self": null,
       "border": null,
       "bottom": null,
       "display": null,
       "error": {},
       "flex": null,
       "flex_flow": null,
       "grid_area": null,
       "grid_auto_columns": null,
       "grid_auto_flow": null,
       "grid_auto_rows": null,
       "grid_column": null,
       "grid_gap": null,
       "grid_row": null,
       "grid_template_areas": null,
       "grid_template_columns": null,
       "grid_template_rows": null,
       "height": null,
       "justify_content": null,
       "justify_items": null,
       "left": null,
       "margin": null,
       "max_height": null,
       "max_width": null,
       "min_height": null,
       "min_width": null,
       "msg": "Failed to load model class 'LayoutModel' from module '@jupyter-widgets/base'",
       "object_fit": null,
       "object_position": null,
       "order": null,
       "overflow": null,
       "overflow_x": null,
       "overflow_y": null,
       "padding": null,
       "right": null,
       "top": null,
       "visibility": null,
       "width": null
      }
     }
    },
    "version_major": 2,
    "version_minor": 0
   }
  }
 },
 "nbformat": 4,
 "nbformat_minor": 5
}
